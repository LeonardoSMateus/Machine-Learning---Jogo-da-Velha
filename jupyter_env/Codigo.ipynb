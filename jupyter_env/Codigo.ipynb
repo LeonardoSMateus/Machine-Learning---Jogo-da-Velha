{
 "metadata": {
  "language_info": {
   "codemirror_mode": {
    "name": "ipython",
    "version": 3
   },
   "file_extension": ".py",
   "mimetype": "text/x-python",
   "name": "python",
   "nbconvert_exporter": "python",
   "pygments_lexer": "ipython3",
   "version": "3.9.2-final"
  },
  "orig_nbformat": 2,
  "kernelspec": {
   "name": "python392jvsc74a57bd0ac59ebe37160ed0dfa835113d9b8498d9f09ceb179beaac4002f036b9467c963",
   "display_name": "Python 3.9.2 64-bit"
  },
  "metadata": {
   "interpreter": {
    "hash": "ac59ebe37160ed0dfa835113d9b8498d9f09ceb179beaac4002f036b9467c963"
   }
  }
 },
 "nbformat": 4,
 "nbformat_minor": 2,
 "cells": [
  {
   "source": [
    "# ANÁLISE EXPLORATÓRIA DO DATASET"
   ],
   "cell_type": "markdown",
   "metadata": {}
  },
  {
   "source": [
    "#importanto os pacotes necessáiros\n",
    "import pandas as pd \n",
    "import numpy as np\n",
    "import matplotlib.pyplot as plt\n",
    "from scipy.stats.stats import pearsonr"
   ],
   "cell_type": "code",
   "metadata": {},
   "execution_count": 28,
   "outputs": []
  },
  {
   "source": [
    "#importnado o dataset\n",
    "arquivo = pd.read_csv(\"C:\\Machine-Learning-Diagnostico-Presuntivo-Duas-Doenca-Sistema-Urinario\\AcuteInflammationsDataSet.csv\")\n",
    "arquivo.head()\n"
   ],
   "cell_type": "code",
   "metadata": {},
   "execution_count": 34,
   "outputs": [
    {
     "output_type": "execute_result",
     "data": {
      "text/plain": [
       "   Temperature of patient Occurrence of nausea  Lumbar pain  \\\n",
       "0                    35.5                   no          yes   \n",
       "1                    35.9                   no           no   \n",
       "2                    35.9                   no          yes   \n",
       "3                    36.0                   no           no   \n",
       "4                    36.0                   no          yes   \n",
       "\n",
       "  Urine pushing (continuous need for urination)  Micturition pains  \\\n",
       "0                                            no                 no   \n",
       "1                                           yes                yes   \n",
       "2                                            no                 no   \n",
       "3                                           yes                yes   \n",
       "4                                            no                 no   \n",
       "\n",
       "  Burning of urethra, itch, swelling of urethra outlet   \\\n",
       "0                                                 no      \n",
       "1                                                yes      \n",
       "2                                                 no      \n",
       "3                                                yes      \n",
       "4                                                 no      \n",
       "\n",
       "  decision: Inflammation of urinary bladder  \\\n",
       "0                                        no   \n",
       "1                                       yes   \n",
       "2                                        no   \n",
       "3                                       yes   \n",
       "4                                        no   \n",
       "\n",
       "  decision: Nephritis of renal pelvis origin  \n",
       "0                                         no  \n",
       "1                                         no  \n",
       "2                                         no  \n",
       "3                                         no  \n",
       "4                                         no  "
      ],
      "text/html": "<div>\n<style scoped>\n    .dataframe tbody tr th:only-of-type {\n        vertical-align: middle;\n    }\n\n    .dataframe tbody tr th {\n        vertical-align: top;\n    }\n\n    .dataframe thead th {\n        text-align: right;\n    }\n</style>\n<table border=\"1\" class=\"dataframe\">\n  <thead>\n    <tr style=\"text-align: right;\">\n      <th></th>\n      <th>Temperature of patient</th>\n      <th>Occurrence of nausea</th>\n      <th>Lumbar pain</th>\n      <th>Urine pushing (continuous need for urination)</th>\n      <th>Micturition pains</th>\n      <th>Burning of urethra, itch, swelling of urethra outlet</th>\n      <th>decision: Inflammation of urinary bladder</th>\n      <th>decision: Nephritis of renal pelvis origin</th>\n    </tr>\n  </thead>\n  <tbody>\n    <tr>\n      <th>0</th>\n      <td>35.5</td>\n      <td>no</td>\n      <td>yes</td>\n      <td>no</td>\n      <td>no</td>\n      <td>no</td>\n      <td>no</td>\n      <td>no</td>\n    </tr>\n    <tr>\n      <th>1</th>\n      <td>35.9</td>\n      <td>no</td>\n      <td>no</td>\n      <td>yes</td>\n      <td>yes</td>\n      <td>yes</td>\n      <td>yes</td>\n      <td>no</td>\n    </tr>\n    <tr>\n      <th>2</th>\n      <td>35.9</td>\n      <td>no</td>\n      <td>yes</td>\n      <td>no</td>\n      <td>no</td>\n      <td>no</td>\n      <td>no</td>\n      <td>no</td>\n    </tr>\n    <tr>\n      <th>3</th>\n      <td>36.0</td>\n      <td>no</td>\n      <td>no</td>\n      <td>yes</td>\n      <td>yes</td>\n      <td>yes</td>\n      <td>yes</td>\n      <td>no</td>\n    </tr>\n    <tr>\n      <th>4</th>\n      <td>36.0</td>\n      <td>no</td>\n      <td>yes</td>\n      <td>no</td>\n      <td>no</td>\n      <td>no</td>\n      <td>no</td>\n      <td>no</td>\n    </tr>\n  </tbody>\n</table>\n</div>"
     },
     "metadata": {},
     "execution_count": 34
    }
   ]
  },
  {
   "cell_type": "code",
   "execution_count": 35,
   "metadata": {},
   "outputs": [
    {
     "output_type": "stream",
     "name": "stdout",
     "text": [
      "Media da Temperatura 38.72416666666666\nDesvio padrão da temperatura 1.8115369088766098\n"
     ]
    }
   ],
   "source": [
    "#Analisando a Temperatura do paciente\n",
    "\n",
    "mediaTemperatura = np.mean(arquivo['Temperature of patient'])\n",
    "print(\"Media da Temperatura\",mediaTemperatura)\n",
    "desvioPadraoTemperatura = np.std(arquivo['Temperature of patient'])\n",
    "print(\"Desvio padrão da temperatura\", desvioPadraoTemperatura)\n"
   ]
  },
  {
   "cell_type": "code",
   "execution_count": null,
   "metadata": {},
   "outputs": [],
   "source": []
  }
 ]
}